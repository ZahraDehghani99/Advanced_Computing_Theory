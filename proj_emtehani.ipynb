{
 "cells": [
  {
   "cell_type": "code",
   "execution_count": 43,
   "metadata": {},
   "outputs": [],
   "source": [
    "import math\n",
    "def calculat_left_side(n):\n",
    "    x = (n & (~(n - 1)))\n",
    "    return int(math.log10(x) /\n",
    "            math.log10(2))  \n",
    "\n",
    "def calculat_right_side(n):\n",
    "    power_of_2 = calculat_left_side(n)\n",
    "    m = ((n//(2**power_of_2)) - 1)//2\n",
    "    return m\n",
    "\n",
    "def decode_pair_number(n):\n",
    "    '''This function get the code of pair number as an input and then decode it based on\n",
    "    following formula : 2^x(2y+1) - 1'''\n",
    "    left_side = calculat_left_side(n)\n",
    "    right_side = calculat_right_side(n)\n",
    "    return left_side, right_side\n",
    "\n",
    "def create_var_lst(c):\n",
    "    var_lst = [\"Y\"]\n",
    "    for i in range(math.floor((c+1)/2)):\n",
    "        var_lst.extend([f\"X{i+1}\", f\"Z{i+1}\"])\n",
    "    return var_lst    \n",
    "\n",
    "def create_label_lst(a):\n",
    "    label_lst = []\n",
    "    for i in range(math.ceil((a + 1)/5)):\n",
    "        label_lst.extend([f\"A{i+1}\", f\"B{i+1}\", f\"C{i+1}\", f\"D{i+1}\", f\"E{i+1}\"])\n",
    "    return label_lst  \n",
    "\n",
    "def generate_instruction(a, b, c):\n",
    "    var_lst = create_var_lst(c)\n",
    "    label_lst = create_label_lst(a)\n",
    "    instruction_lst = [\"V <- V\", \"V <- V + 1\", \"V <- V + 1\", \"IF V != 0 GOTO L\"]\n",
    "    var = var_lst[c]\n",
    "\n",
    "    if b == 0:\n",
    "        inst = instruction_lst[b].replace(\"V\", var)\n",
    "    elif b == 1:\n",
    "        inst = instruction_lst[b].replace(\"V\", var)\n",
    "    elif b == 2:\n",
    "        inst = instruction_lst[b].replace(\"V\", var)    \n",
    "    else:\n",
    "        inst = instruction_lst[3].replace(\"V\", var)     \n",
    "        inst = inst.replace(\"L\", label_lst[b - 3])  \n",
    "\n",
    "    if a != 0:\n",
    "        inst = f\"[{label_lst[a - 1]}]\" + \" \" + inst\n",
    "\n",
    "    return inst           "
   ]
  },
  {
   "cell_type": "code",
   "execution_count": 44,
   "metadata": {},
   "outputs": [],
   "source": [
    "def decode(code):\n",
    "    code = code + 1\n",
    "    a, b_c = decode_pair_number(code)\n",
    "    b_c = b_c + 1\n",
    "    b, c = decode_pair_number(b_c) \n",
    "    inst = generate_instruction(a, b, c)\n",
    "    return inst"
   ]
  },
  {
   "cell_type": "code",
   "execution_count": 46,
   "metadata": {},
   "outputs": [
    {
     "name": "stdout",
     "output_type": "stream",
     "text": [
      "IF X1 != 0 GOTO A1\n"
     ]
    }
   ],
   "source": [
    "print(decode(46))"
   ]
  },
  {
   "cell_type": "code",
   "execution_count": 4,
   "metadata": {},
   "outputs": [
    {
     "name": "stdout",
     "output_type": "stream",
     "text": [
      "2\n"
     ]
    }
   ],
   "source": [
    "import math\n",
    "c = 4\n",
    "x = math.floor((c+1)/2)\n",
    "print(x)"
   ]
  },
  {
   "cell_type": "code",
   "execution_count": 5,
   "metadata": {},
   "outputs": [
    {
     "data": {
      "text/plain": [
       "2"
      ]
     },
     "execution_count": 5,
     "metadata": {},
     "output_type": "execute_result"
    }
   ],
   "source": [
    "x"
   ]
  },
  {
   "cell_type": "code",
   "execution_count": 36,
   "metadata": {},
   "outputs": [],
   "source": [
    "def decode(code):\n",
    "    code = code + 1\n",
    "    a = calculat_left_side(code)\n",
    "    b_c = calculat_right_side(code)\n",
    "    b_c = b_c + 1\n",
    "    b = calculat_left_side(b_c)\n",
    "    c = calculat_right_side(b_c)\n",
    "    print(f'a : {a}, b : {b}, c : {c}')"
   ]
  },
  {
   "cell_type": "code",
   "execution_count": 38,
   "metadata": {},
   "outputs": [
    {
     "name": "stdout",
     "output_type": "stream",
     "text": [
      "a : 0, b : 3, c : 1\n"
     ]
    }
   ],
   "source": [
    "decode(46)"
   ]
  }
 ],
 "metadata": {
  "kernelspec": {
   "display_name": "Python 3.9.12 ('base')",
   "language": "python",
   "name": "python3"
  },
  "language_info": {
   "codemirror_mode": {
    "name": "ipython",
    "version": 3
   },
   "file_extension": ".py",
   "mimetype": "text/x-python",
   "name": "python",
   "nbconvert_exporter": "python",
   "pygments_lexer": "ipython3",
   "version": "3.9.12"
  },
  "orig_nbformat": 4,
  "vscode": {
   "interpreter": {
    "hash": "7de5be217c99730eee1992208c9f2a1e501ca675a5090e2b18ce5c07d837e29a"
   }
  }
 },
 "nbformat": 4,
 "nbformat_minor": 2
}
