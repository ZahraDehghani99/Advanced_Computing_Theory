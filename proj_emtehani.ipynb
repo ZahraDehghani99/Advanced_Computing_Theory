{
 "cells": [
  {
   "cell_type": "code",
   "execution_count": 94,
   "metadata": {},
   "outputs": [],
   "source": [
    "import math\n",
    "\n",
    "def calculate_left_side(n):\n",
    "    x = (n & (~(n - 1)))\n",
    "    return int(math.log10(x) /\n",
    "            math.log10(2))  \n",
    "\n",
    "def calculate_right_side(n):\n",
    "    power_of_2 = calculate_left_side(n)\n",
    "    m = ((n//(2**power_of_2)) - 1)//2\n",
    "    return m\n",
    "\n",
    "def decode_pair_number(n):\n",
    "    '''This function get the code of pair number as an input and then decode it based on\n",
    "    following formula : 2^x(2y+1) - 1'''\n",
    "    left_side = calculate_left_side(n)\n",
    "    right_side = calculate_right_side(n)\n",
    "    return left_side, right_side\n",
    "\n",
    "def create_var_lst(c):\n",
    "    var_lst = [\"Y\"]\n",
    "    for i in range(math.floor((c+1)/2)):\n",
    "        var_lst.extend([f\"X{i+1}\", f\"Z{i+1}\"])\n",
    "    return var_lst    "
   ]
  },
  {
   "cell_type": "code",
   "execution_count": 95,
   "metadata": {},
   "outputs": [],
   "source": [
    "def decode_instruction(code):\n",
    "    '''find a, b and c from instruction code.'''\n",
    "    code = code + 1\n",
    "    a, b_c = decode_pair_number(code)\n",
    "    b_c = b_c + 1\n",
    "    b, c = decode_pair_number(b_c) \n",
    "    return a, b, c\n",
    "\n",
    "def create_var_lst_of_program(code_list):\n",
    "    '''find all of the variables in program '''\n",
    "    inst_var_indx = []\n",
    "    for code in code_list:\n",
    "        _, _, c = decode_instruction(code)\n",
    "        inst_var_indx.append(c)\n",
    "    max_var_indx = max(inst_var_indx)\n",
    "    var_lst = create_var_lst(max_var_indx)\n",
    "    return var_lst\n",
    "\n",
    "def initial_values(var_lst, input_vairiables):\n",
    "    '''create a dictionary based on the the variable lists and input values before run the program.'''\n",
    "    var_value_dict = {}\n",
    "    for var in var_lst:\n",
    "        var_value_dict[var] = 0\n",
    "    for i in range(len(input_vairiables)):\n",
    "        var_value_dict[var_lst[2*i + 1]] = input_vairiables[i]   \n",
    "    return var_value_dict     \n",
    "\n",
    "def find_var_used_lst(code_list):\n",
    "    '''find used variables in program and sort them based on output format.'''\n",
    "    inst_var_indx = []\n",
    "    for code in code_list:\n",
    "        _, _, c = decode_instruction(code)\n",
    "        inst_var_indx.append(c)\n",
    "\n",
    "    input_var = []\n",
    "    local_var = []\n",
    "    used_var = []\n",
    "\n",
    "    for c in inst_var_indx:\n",
    "        if c != 0 and c%2 == 0:\n",
    "            local_var.append(c)\n",
    "\n",
    "        elif c%2 != 0:\n",
    "            input_var.append(c)  \n",
    "\n",
    "    max_local_var = max(local_var, default = 0)  \n",
    "    max_input_var = max(input_var, default = 0)      \n",
    "\n",
    "    for i in range(math.ceil(max_input_var/2)):\n",
    "        used_var.append(f\"X{i+1}\")\n",
    "    for i in range(max_local_var//2):\n",
    "        used_var.append(f\"Z{i+1}\")  \n",
    "    used_var.append(\"Y\")  \n",
    "    return used_var      \n",
    "\n",
    "def output_format(k, var_values_dict, used_var):\n",
    "    output = [k]\n",
    "    for i in used_var:\n",
    "        output.append(var_values_dict[i])\n",
    "    output_string = \"\"\n",
    "    for i in output:\n",
    "        output_string += str(i) + \" \"    \n",
    "    return output_string    \n",
    "   \n",
    "def isPrime(k):\n",
    "    # Corner cases\n",
    "    if (k <= 1):\n",
    "        return 0\n",
    "    if (k == 2 or k == 3):\n",
    "        return 1\n",
    "    # below 5 there is only two prime numbers 2 and 3\n",
    "    if (k % 2 == 0 or k % 3 == 0):\n",
    "        return 0\n",
    "  # Using concept of prime number can be represented in form of (6*k + 1) or(6*k - 1)\n",
    "    for i in range(5, 1 + int(k ** 0.5), 6):\n",
    "        if (k % i == 0 or k % (i + 2) == 0):\n",
    "            return 0\n",
    "    return 1\n",
    " \n",
    "# function which gives prime at position n\n",
    "def nThPrime(n):\n",
    "    i = 2\n",
    "    while(n > 0):\n",
    "        # each time if a prime number found decrease n\n",
    "        if(isPrime(i)):\n",
    "            n -= 1\n",
    "        i += 1  # increase the integer to go ahead\n",
    "    i -= 1  # since decrement of k is being done before\n",
    "    # Increment of i , so i should be decreased by 1\n",
    "    return i   \n",
    "\n",
    "def prime_factorization(n, p):\n",
    "    primfac = []\n",
    "    d = 2\n",
    "    while d*d <= n:\n",
    "        while (n % d) == 0:\n",
    "            primfac.append(d)  # supposing you want multiple factors repeated\n",
    "            n //= d\n",
    "        d += 1\n",
    "    if n > 1:\n",
    "       primfac.append(n)\n",
    "    return primfac.count(p) \n",
    "\n",
    "def decode_state(S, var_values_dict, var_lst):\n",
    "    '''get the coded state, dictionary of variables and list of variables and decode the state and change the value of the variables in dictionary.'''\n",
    "    for i, var in enumerate(var_lst):\n",
    "        var_values_dict[var] = prime_factorization(S, nThPrime(i+1))\n",
    "    return var_values_dict  "
   ]
  },
  {
   "cell_type": "code",
   "execution_count": 96,
   "metadata": {},
   "outputs": [],
   "source": [
    "def universal_program(instruction_codes, input_vairiables):\n",
    "    var_lst = create_var_lst_of_program(instruction_codes)\n",
    "    used_var_lst = find_var_used_lst(instruction_codes)\n",
    "    var_values_dict = initial_values(var_lst, input_vairiables)\n",
    "    input_vars_count = (len(var_lst) - 1)//2 # count of input variables\n",
    "    Z = instruction_codes\n",
    "    S = 1 # state code\n",
    "    for i in range(0, input_vars_count):\n",
    "        temp = nThPrime(2*i + 2) ** var_values_dict[var_lst[2*i + 1]]\n",
    "        S = S * temp\n",
    "    K = 1\n",
    "\n",
    "    while K != len(Z) + 1: \n",
    "        print(output_format(K, decode_state(S, var_values_dict, var_lst), used_var_lst))\n",
    "        U = calculate_right_side(Z[K-1] + 1) # <b, c> \n",
    "        c = calculate_right_side(U + 1)\n",
    "        P = nThPrime(calculate_right_side(U + 1) + 1)\n",
    "        b = calculate_left_side(U + 1)\n",
    "\n",
    "        if b == 0:\n",
    "                K += 1\n",
    "        elif b == 1:\n",
    "            S = S * P\n",
    "            K += 1\n",
    "        elif S%P != 0:\n",
    "            K += 1    \n",
    "        elif b == 2:\n",
    "            S = S//P \n",
    "            K += 1\n",
    "        else:\n",
    "            K = -1\n",
    "            for i in range(0, len(Z)):\n",
    "                if calculate_left_side(Z[i] + 1) + 2 == b:\n",
    "                    K = i + 1\n",
    "            if K == -1:\n",
    "                K = len(Z) + 1"
   ]
  },
  {
   "cell_type": "code",
   "execution_count": 100,
   "metadata": {},
   "outputs": [],
   "source": [
    "instruction_codes = [45, 34, 350, 2, 46]\n",
    "input_vairiables = [2, 1]"
   ]
  },
  {
   "cell_type": "code",
   "execution_count": 101,
   "metadata": {},
   "outputs": [
    {
     "name": "stdout",
     "output_type": "stream",
     "text": [
      "1 2 1 0 0 0 0 \n",
      "2 1 1 0 0 0 0 \n",
      "3 1 1 0 0 1 0 \n",
      "4 1 1 0 0 1 0 \n",
      "5 1 1 0 0 1 1 \n",
      "1 1 1 0 0 1 1 \n",
      "2 0 1 0 0 1 1 \n",
      "3 0 1 0 0 2 1 \n",
      "4 0 1 0 0 2 1 \n",
      "5 0 1 0 0 2 2 \n"
     ]
    }
   ],
   "source": [
    "universal_program(instruction_codes,input_vairiables)"
   ]
  },
  {
   "cell_type": "code",
   "execution_count": 91,
   "metadata": {},
   "outputs": [
    {
     "name": "stdout",
     "output_type": "stream",
     "text": [
      "['Y', 'X1', 'Z1']\n"
     ]
    }
   ],
   "source": [
    "var_lst = create_var_lst_of_program(instruction_codes)\n",
    "print(var_lst)"
   ]
  },
  {
   "cell_type": "code",
   "execution_count": 92,
   "metadata": {},
   "outputs": [
    {
     "name": "stdout",
     "output_type": "stream",
     "text": [
      "['X1', 'Y']\n"
     ]
    }
   ],
   "source": [
    "used_var_lst = find_var_used_lst(instruction_codes)\n",
    "print(used_var_lst)"
   ]
  },
  {
   "cell_type": "code",
   "execution_count": 56,
   "metadata": {},
   "outputs": [
    {
     "name": "stdout",
     "output_type": "stream",
     "text": [
      "{'Y': 0, 'X1': 2, 'Z1': 0, 'X2': 1, 'Z2': 0, 'X3': 0, 'Z3': 0}\n"
     ]
    }
   ],
   "source": [
    "var_values_dict = initial_values(var_lst, input_vairiables)\n",
    "print(var_values_dict)"
   ]
  },
  {
   "cell_type": "code",
   "execution_count": 57,
   "metadata": {},
   "outputs": [
    {
     "name": "stdout",
     "output_type": "stream",
     "text": [
      "3\n"
     ]
    }
   ],
   "source": [
    "input_vars_count = (len(var_lst) - 1)//2\n",
    "print(input_vars_count)"
   ]
  },
  {
   "cell_type": "code",
   "execution_count": 58,
   "metadata": {},
   "outputs": [
    {
     "name": "stdout",
     "output_type": "stream",
     "text": [
      "[45, 34, 350, 2, 46]\n"
     ]
    }
   ],
   "source": [
    "Z = instruction_codes\n",
    "print(Z)"
   ]
  },
  {
   "cell_type": "code",
   "execution_count": 64,
   "metadata": {},
   "outputs": [
    {
     "name": "stdout",
     "output_type": "stream",
     "text": [
      "3\n",
      "2\n",
      "7\n",
      "1\n",
      "13\n",
      "0\n",
      "63\n"
     ]
    }
   ],
   "source": [
    "S = 1\n",
    "for i in range(0, input_vars_count):\n",
    "    temp = nThPrime(2*i + 2) ** var_values_dict[var_lst[2*i + 1]]\n",
    "    print(nThPrime(2*i + 2))\n",
    "    print(var_values_dict[var_lst[2*i + 1]])\n",
    "    S = S * temp\n",
    "\n",
    "print(S)"
   ]
  },
  {
   "cell_type": "code",
   "execution_count": 67,
   "metadata": {},
   "outputs": [],
   "source": [
    "snap_shots = []\n",
    "K = 1\n",
    "snap_shots.append(output_format(K, var_values_dict, used_var_lst))"
   ]
  },
  {
   "cell_type": "markdown",
   "metadata": {},
   "source": [
    "## polished one"
   ]
  },
  {
   "cell_type": "code",
   "execution_count": 2,
   "metadata": {},
   "outputs": [
    {
     "name": "stdout",
     "output_type": "stream",
     "text": [
      "0\n"
     ]
    }
   ],
   "source": [
    "import math\n",
    "print(math.floor((1)/2))"
   ]
  },
  {
   "cell_type": "code",
   "execution_count": null,
   "metadata": {},
   "outputs": [],
   "source": []
  }
 ],
 "metadata": {
  "kernelspec": {
   "display_name": "Python 3.9.12 ('base')",
   "language": "python",
   "name": "python3"
  },
  "language_info": {
   "codemirror_mode": {
    "name": "ipython",
    "version": 3
   },
   "file_extension": ".py",
   "mimetype": "text/x-python",
   "name": "python",
   "nbconvert_exporter": "python",
   "pygments_lexer": "ipython3",
   "version": "3.9.12"
  },
  "orig_nbformat": 4,
  "vscode": {
   "interpreter": {
    "hash": "7de5be217c99730eee1992208c9f2a1e501ca675a5090e2b18ce5c07d837e29a"
   }
  }
 },
 "nbformat": 4,
 "nbformat_minor": 2
}
